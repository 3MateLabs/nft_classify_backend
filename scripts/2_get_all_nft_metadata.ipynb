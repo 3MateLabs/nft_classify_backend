{
 "cells": [
  {
   "cell_type": "code",
   "execution_count": 5,
   "metadata": {},
   "outputs": [],
   "source": [
    "import pandas as pd\n",
    "\n",
    "df = pd.read_csv(\"1_all_nft_types.csv\")"
   ]
  },
  {
   "cell_type": "code",
   "execution_count": 6,
   "metadata": {},
   "outputs": [
    {
     "data": {
      "text/html": [
       "<div>\n",
       "<style scoped>\n",
       "    .dataframe tbody tr th:only-of-type {\n",
       "        vertical-align: middle;\n",
       "    }\n",
       "\n",
       "    .dataframe tbody tr th {\n",
       "        vertical-align: top;\n",
       "    }\n",
       "\n",
       "    .dataframe thead th {\n",
       "        text-align: right;\n",
       "    }\n",
       "</style>\n",
       "<table border=\"1\" class=\"dataframe\">\n",
       "  <thead>\n",
       "    <tr style=\"text-align: right;\">\n",
       "      <th></th>\n",
       "      <th>nft_collection_name</th>\n",
       "      <th>nft_type</th>\n",
       "      <th>verified</th>\n",
       "      <th>tradeport_url</th>\n",
       "    </tr>\n",
       "  </thead>\n",
       "  <tbody>\n",
       "  </tbody>\n",
       "</table>\n",
       "</div>"
      ],
      "text/plain": [
       "Empty DataFrame\n",
       "Columns: [nft_collection_name, nft_type, verified, tradeport_url]\n",
       "Index: []"
      ]
     },
     "execution_count": 6,
     "metadata": {},
     "output_type": "execute_result"
    }
   ],
   "source": [
    "df"
   ]
  },
  {
   "cell_type": "code",
   "execution_count": 12,
   "metadata": {},
   "outputs": [],
   "source": [
    "# fetch all nft in each type, with a loop\n",
    "output_nft_data = []\n",
    "for index, row in df.iterrows():\n",
    "    if row.verified == False:\n",
    "        continue\n",
    "\n",
    "    nft_type = row[\"nft_type\"]\n",
    "    nft_collection_name = row[\"nft_collection_name\"]\n",
    "    tradeport_url = row[\"tradeport_url\"]\n",
    "    print(nft_type, nft_collection_name, tradeport_url)\n",
    "\n",
    "    # fetch it\n",
    "    nft_object_ids = get_all_nft_object_ids(nft_type)\n",
    "    nft_datas = get_all_nft_datas_by_multiGetObjectsAPI(nft_object_ids)\n",
    "\n",
    "    for nft_data in nft_datas:\n",
    "\n",
    "        output_nft_data.append(\n",
    "            {\n",
    "                \"nft_type\": nft_type,\n",
    "                \"nft_collection_name\": nft_collection_name,\n",
    "                \"tradeport_url\": tradeport_url,\n",
    "                \"object_id\": nft_data.object_id,\n",
    "                \"name\": nft_data.nft_name,\n",
    "                \"image_url\": nft_data.image_url,\n",
    "                \"project_url\": nft_data.project_url,\n",
    "                \"nft_symbol\": nft_data.symbol,\n",
    "                \"creator\": nft_data.creator,\n",
    "                \"description\": nft_data.description,\n",
    "            }\n",
    "        )\n",
    "\n",
    "# save to csv\n",
    "pd.DataFrame(output_nft_data).to_csv(\"2_all_nft_datas.csv\", index=False)"
   ]
  },
  {
   "cell_type": "code",
   "execution_count": 11,
   "metadata": {},
   "outputs": [],
   "source": [
    "pd.DataFrame(output_nft_data).to_csv(\"2_all_nft_datas.csv\", index=False)"
   ]
  },
  {
   "cell_type": "code",
   "execution_count": null,
   "metadata": {},
   "outputs": [],
   "source": []
  }
 ],
 "metadata": {
  "kernelspec": {
   "display_name": "base",
   "language": "python",
   "name": "python3"
  },
  "language_info": {
   "codemirror_mode": {
    "name": "ipython",
    "version": 3
   },
   "file_extension": ".py",
   "mimetype": "text/x-python",
   "name": "python",
   "nbconvert_exporter": "python",
   "pygments_lexer": "ipython3",
   "version": "3.11.0"
  }
 },
 "nbformat": 4,
 "nbformat_minor": 2
}
