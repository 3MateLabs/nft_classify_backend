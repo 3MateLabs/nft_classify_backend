{
 "cells": [
  {
   "cell_type": "code",
   "execution_count": null,
   "metadata": {},
   "outputs": [],
   "source": [
    "# Use tradeport to get all the verified NFT types and put in df below"
   ]
  },
  {
   "cell_type": "code",
   "execution_count": 3,
   "metadata": {},
   "outputs": [],
   "source": [
    "# Output the NFT types to a csv file\n",
    "\n",
    "import pandas as pd\n",
    "\n",
    "# Create an empty DataFrame with the specified columns\n",
    "nft_df = pd.DataFrame(\n",
    "    columns=[\"nft_collection_name\", \"nft_type\", \"verified\", \"tradeport_url\"]\n",
    ")\n",
    "\n",
    "\n",
    "nft_df.to_csv(\"1_all_nft_types.csv\", index=False)"
   ]
  },
  {
   "cell_type": "code",
   "execution_count": null,
   "metadata": {},
   "outputs": [],
   "source": []
  },
  {
   "cell_type": "code",
   "execution_count": null,
   "metadata": {},
   "outputs": [],
   "source": [
    "output_nft_data.append(\n",
    "    {\n",
    "        \"nft_type\": \"example_type\",\n",
    "        \"nft_collection_name\": \"example_collection\",\n",
    "        \"nft_object_id\": \"example_id\",\n",
    "        \"tradeport_url\": \"http://example.com\",\n",
    "        \"object_id\": \"example_object_id\",\n",
    "        \"name\": \"example_name\",\n",
    "        \"image_url\": \"http://example.com/image.png\",\n",
    "        \"project_url\": \"http://example.com/project\",\n",
    "        \"nft_symbol\": \"EXMPL\",\n",
    "        \"creator\": \"example_creator\",\n",
    "        \"description\": \"This is an example description for the NFT.\",\n",
    "    }\n",
    ")"
   ]
  },
  {
   "cell_type": "code",
   "execution_count": null,
   "metadata": {},
   "outputs": [],
   "source": [
    "output_nft_data.append(\n",
    "    {\n",
    "        \"nft_type\": \"example_type\",\n",
    "        \"nft_collection_name\": \"example_collection\",\n",
    "        \"nft_object_id\": \"example_id\",\n",
    "        \"tradeport_url\": \"http://example.com\",\n",
    "        \"object_id\": \"example_object_id\",\n",
    "        \"name\": \"example_name\",\n",
    "        \"image_url\": \"http://example.com/image.png\",\n",
    "        \"project_url\": \"http://example.com/project\",\n",
    "        \"nft_symbol\": \"EXMPL\",\n",
    "        \"creator\": \"example_creator\",\n",
    "        \"description\": \"This is an example description for the NFT.\",\n",
    "    }\n",
    ")"
   ]
  },
  {
   "cell_type": "code",
   "execution_count": null,
   "metadata": {},
   "outputs": [],
   "source": [
    "output_nft_data.append(\n",
    "    {\n",
    "        \"nft_type\": \"example_type\",\n",
    "        \"nft_collection_name\": \"example_collection\",\n",
    "        \"nft_object_id\": \"example_id\",\n",
    "        \"tradeport_url\": \"http://example.com\",\n",
    "        \"object_id\": \"example_object_id\",\n",
    "        \"name\": \"example_name\",\n",
    "        \"image_url\": \"http://example.com/image.png\",\n",
    "        \"project_url\": \"http://example.com/project\",\n",
    "        \"nft_symbol\": \"EXMPL\",\n",
    "        \"creator\": \"example_creator\",\n",
    "        \"description\": \"This is an example description for the NFT.\",\n",
    "    }\n",
    ")"
   ]
  }
 ],
 "metadata": {
  "kernelspec": {
   "display_name": "base",
   "language": "python",
   "name": "python3"
  },
  "language_info": {
   "codemirror_mode": {
    "name": "ipython",
    "version": 3
   },
   "file_extension": ".py",
   "mimetype": "text/x-python",
   "name": "python",
   "nbconvert_exporter": "python",
   "pygments_lexer": "ipython3",
   "version": "3.11.0"
  }
 },
 "nbformat": 4,
 "nbformat_minor": 2
}
