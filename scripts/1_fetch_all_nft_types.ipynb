{
 "cells": [
  {
   "cell_type": "code",
   "execution_count": null,
   "metadata": {},
   "outputs": [],
   "source": [
    "# use selenium\n",
    "\n",
    "\n",
    "# open https://www.tradeport.xyz/?tab=trending\n",
    "\n",
    "\n",
    "# find all the links to the NFTs\n",
    "\n",
    "\n",
    "# GEt NFT Type for all the NFTs\n",
    "\n",
    "\n",
    "# For example:https://www.tradeport.xyz/sui/collection/0xb07b09b016d28f989b6adda8069096da0c0a0ff6490f6e0866858c023b061bee%3A%3Amystic_yeti%3A%3AMysticYeti?bottomTab=trades&tab=items\n",
    "# The type will be 0xb07b09b016d28f989b6adda8069096da0c0a0ff6490f6e0866858c023b061bee%3A%3Amystic_yeti%3A%3AMysticYeti"
   ]
  },
  {
   "cell_type": "code",
   "execution_count": 3,
   "metadata": {},
   "outputs": [],
   "source": [
    "# Output the NFT types to a csv file\n",
    "\n",
    "import pandas as pd\n",
    "\n",
    "# Create an empty DataFrame with the specified columns\n",
    "nft_df = pd.DataFrame(\n",
    "    columns=[\"nft_collection_name\", \"nft_type\", \"verified\", \"tradeport_url\"]\n",
    ")\n",
    "\n",
    "\n",
    "nft_df.to_csv(\"1_all_nft_types.csv\", index=False)"
   ]
  },
  {
   "cell_type": "code",
   "execution_count": null,
   "metadata": {},
   "outputs": [],
   "source": []
  }
 ],
 "metadata": {
  "kernelspec": {
   "display_name": "base",
   "language": "python",
   "name": "python3"
  },
  "language_info": {
   "codemirror_mode": {
    "name": "ipython",
    "version": 3
   },
   "file_extension": ".py",
   "mimetype": "text/x-python",
   "name": "python",
   "nbconvert_exporter": "python",
   "pygments_lexer": "ipython3",
   "version": "3.11.0"
  }
 },
 "nbformat": 4,
 "nbformat_minor": 2
}
